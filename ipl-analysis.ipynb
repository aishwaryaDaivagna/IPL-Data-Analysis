{
 "cells": [
  {
   "cell_type": "code",
   "execution_count": 30,
   "id": "a16fe039",
   "metadata": {},
   "outputs": [
    {
     "ename": "ValueError",
     "evalue": "not enough values to unpack (expected 2, got 1)",
     "output_type": "error",
     "traceback": [
      "\u001b[1;31m---------------------------------------------------------------------------\u001b[0m",
      "\u001b[1;31mValueError\u001b[0m                                Traceback (most recent call last)",
      "\u001b[1;32m~\\AppData\\Local\\Temp\\ipykernel_3228\\814295875.py\u001b[0m in \u001b[0;36m<module>\u001b[1;34m\u001b[0m\n\u001b[1;32m----> 1\u001b[1;33m \u001b[0mget_ipython\u001b[0m\u001b[1;33m(\u001b[0m\u001b[1;33m)\u001b[0m\u001b[1;33m.\u001b[0m\u001b[0mrun_line_magic\u001b[0m\u001b[1;33m(\u001b[0m\u001b[1;34m'alias'\u001b[0m\u001b[1;33m,\u001b[0m \u001b[1;34m'pip=pip3'\u001b[0m\u001b[1;33m)\u001b[0m\u001b[1;33m\u001b[0m\u001b[1;33m\u001b[0m\u001b[0m\n\u001b[0m",
      "\u001b[1;32m~\\anaconda3\\lib\\site-packages\\IPython\\core\\interactiveshell.py\u001b[0m in \u001b[0;36mrun_line_magic\u001b[1;34m(self, magic_name, line, _stack_depth)\u001b[0m\n\u001b[0;32m   2362\u001b[0m                 \u001b[0mkwargs\u001b[0m\u001b[1;33m[\u001b[0m\u001b[1;34m'local_ns'\u001b[0m\u001b[1;33m]\u001b[0m \u001b[1;33m=\u001b[0m \u001b[0mself\u001b[0m\u001b[1;33m.\u001b[0m\u001b[0mget_local_scope\u001b[0m\u001b[1;33m(\u001b[0m\u001b[0mstack_depth\u001b[0m\u001b[1;33m)\u001b[0m\u001b[1;33m\u001b[0m\u001b[1;33m\u001b[0m\u001b[0m\n\u001b[0;32m   2363\u001b[0m             \u001b[1;32mwith\u001b[0m \u001b[0mself\u001b[0m\u001b[1;33m.\u001b[0m\u001b[0mbuiltin_trap\u001b[0m\u001b[1;33m:\u001b[0m\u001b[1;33m\u001b[0m\u001b[1;33m\u001b[0m\u001b[0m\n\u001b[1;32m-> 2364\u001b[1;33m                 \u001b[0mresult\u001b[0m \u001b[1;33m=\u001b[0m \u001b[0mfn\u001b[0m\u001b[1;33m(\u001b[0m\u001b[1;33m*\u001b[0m\u001b[0margs\u001b[0m\u001b[1;33m,\u001b[0m \u001b[1;33m**\u001b[0m\u001b[0mkwargs\u001b[0m\u001b[1;33m)\u001b[0m\u001b[1;33m\u001b[0m\u001b[1;33m\u001b[0m\u001b[0m\n\u001b[0m\u001b[0;32m   2365\u001b[0m             \u001b[1;32mreturn\u001b[0m \u001b[0mresult\u001b[0m\u001b[1;33m\u001b[0m\u001b[1;33m\u001b[0m\u001b[0m\n\u001b[0;32m   2366\u001b[0m \u001b[1;33m\u001b[0m\u001b[0m\n",
      "\u001b[1;32m~\\anaconda3\\lib\\site-packages\\decorator.py\u001b[0m in \u001b[0;36mfun\u001b[1;34m(*args, **kw)\u001b[0m\n\u001b[0;32m    230\u001b[0m             \u001b[1;32mif\u001b[0m \u001b[1;32mnot\u001b[0m \u001b[0mkwsyntax\u001b[0m\u001b[1;33m:\u001b[0m\u001b[1;33m\u001b[0m\u001b[1;33m\u001b[0m\u001b[0m\n\u001b[0;32m    231\u001b[0m                 \u001b[0margs\u001b[0m\u001b[1;33m,\u001b[0m \u001b[0mkw\u001b[0m \u001b[1;33m=\u001b[0m \u001b[0mfix\u001b[0m\u001b[1;33m(\u001b[0m\u001b[0margs\u001b[0m\u001b[1;33m,\u001b[0m \u001b[0mkw\u001b[0m\u001b[1;33m,\u001b[0m \u001b[0msig\u001b[0m\u001b[1;33m)\u001b[0m\u001b[1;33m\u001b[0m\u001b[1;33m\u001b[0m\u001b[0m\n\u001b[1;32m--> 232\u001b[1;33m             \u001b[1;32mreturn\u001b[0m \u001b[0mcaller\u001b[0m\u001b[1;33m(\u001b[0m\u001b[0mfunc\u001b[0m\u001b[1;33m,\u001b[0m \u001b[1;33m*\u001b[0m\u001b[1;33m(\u001b[0m\u001b[0mextras\u001b[0m \u001b[1;33m+\u001b[0m \u001b[0margs\u001b[0m\u001b[1;33m)\u001b[0m\u001b[1;33m,\u001b[0m \u001b[1;33m**\u001b[0m\u001b[0mkw\u001b[0m\u001b[1;33m)\u001b[0m\u001b[1;33m\u001b[0m\u001b[1;33m\u001b[0m\u001b[0m\n\u001b[0m\u001b[0;32m    233\u001b[0m     \u001b[0mfun\u001b[0m\u001b[1;33m.\u001b[0m\u001b[0m__name__\u001b[0m \u001b[1;33m=\u001b[0m \u001b[0mfunc\u001b[0m\u001b[1;33m.\u001b[0m\u001b[0m__name__\u001b[0m\u001b[1;33m\u001b[0m\u001b[1;33m\u001b[0m\u001b[0m\n\u001b[0;32m    234\u001b[0m     \u001b[0mfun\u001b[0m\u001b[1;33m.\u001b[0m\u001b[0m__doc__\u001b[0m \u001b[1;33m=\u001b[0m \u001b[0mfunc\u001b[0m\u001b[1;33m.\u001b[0m\u001b[0m__doc__\u001b[0m\u001b[1;33m\u001b[0m\u001b[1;33m\u001b[0m\u001b[0m\n",
      "\u001b[1;32m~\\anaconda3\\lib\\site-packages\\IPython\\core\\magic.py\u001b[0m in \u001b[0;36m<lambda>\u001b[1;34m(f, *a, **k)\u001b[0m\n\u001b[0;32m    185\u001b[0m     \u001b[1;31m# but it's overkill for just that one bit of state.\u001b[0m\u001b[1;33m\u001b[0m\u001b[1;33m\u001b[0m\u001b[0m\n\u001b[0;32m    186\u001b[0m     \u001b[1;32mdef\u001b[0m \u001b[0mmagic_deco\u001b[0m\u001b[1;33m(\u001b[0m\u001b[0marg\u001b[0m\u001b[1;33m)\u001b[0m\u001b[1;33m:\u001b[0m\u001b[1;33m\u001b[0m\u001b[1;33m\u001b[0m\u001b[0m\n\u001b[1;32m--> 187\u001b[1;33m         \u001b[0mcall\u001b[0m \u001b[1;33m=\u001b[0m \u001b[1;32mlambda\u001b[0m \u001b[0mf\u001b[0m\u001b[1;33m,\u001b[0m \u001b[1;33m*\u001b[0m\u001b[0ma\u001b[0m\u001b[1;33m,\u001b[0m \u001b[1;33m**\u001b[0m\u001b[0mk\u001b[0m\u001b[1;33m:\u001b[0m \u001b[0mf\u001b[0m\u001b[1;33m(\u001b[0m\u001b[1;33m*\u001b[0m\u001b[0ma\u001b[0m\u001b[1;33m,\u001b[0m \u001b[1;33m**\u001b[0m\u001b[0mk\u001b[0m\u001b[1;33m)\u001b[0m\u001b[1;33m\u001b[0m\u001b[1;33m\u001b[0m\u001b[0m\n\u001b[0m\u001b[0;32m    188\u001b[0m \u001b[1;33m\u001b[0m\u001b[0m\n\u001b[0;32m    189\u001b[0m         \u001b[1;32mif\u001b[0m \u001b[0mcallable\u001b[0m\u001b[1;33m(\u001b[0m\u001b[0marg\u001b[0m\u001b[1;33m)\u001b[0m\u001b[1;33m:\u001b[0m\u001b[1;33m\u001b[0m\u001b[1;33m\u001b[0m\u001b[0m\n",
      "\u001b[1;32m~\\anaconda3\\lib\\site-packages\\IPython\\core\\magics\\osm.py\u001b[0m in \u001b[0;36malias\u001b[1;34m(self, parameter_s)\u001b[0m\n\u001b[0;32m    172\u001b[0m         \u001b[1;31m# Now try to define a new one\u001b[0m\u001b[1;33m\u001b[0m\u001b[1;33m\u001b[0m\u001b[0m\n\u001b[0;32m    173\u001b[0m         \u001b[1;32mtry\u001b[0m\u001b[1;33m:\u001b[0m\u001b[1;33m\u001b[0m\u001b[1;33m\u001b[0m\u001b[0m\n\u001b[1;32m--> 174\u001b[1;33m             \u001b[0malias\u001b[0m\u001b[1;33m,\u001b[0m\u001b[0mcmd\u001b[0m \u001b[1;33m=\u001b[0m \u001b[0mpar\u001b[0m\u001b[1;33m.\u001b[0m\u001b[0msplit\u001b[0m\u001b[1;33m(\u001b[0m\u001b[1;32mNone\u001b[0m\u001b[1;33m,\u001b[0m \u001b[1;36m1\u001b[0m\u001b[1;33m)\u001b[0m\u001b[1;33m\u001b[0m\u001b[1;33m\u001b[0m\u001b[0m\n\u001b[0m\u001b[0;32m    175\u001b[0m         \u001b[1;32mexcept\u001b[0m \u001b[0mTypeError\u001b[0m\u001b[1;33m:\u001b[0m\u001b[1;33m\u001b[0m\u001b[1;33m\u001b[0m\u001b[0m\n\u001b[0;32m    176\u001b[0m             \u001b[0mprint\u001b[0m\u001b[1;33m(\u001b[0m\u001b[0moinspect\u001b[0m\u001b[1;33m.\u001b[0m\u001b[0mgetdoc\u001b[0m\u001b[1;33m(\u001b[0m\u001b[0mself\u001b[0m\u001b[1;33m.\u001b[0m\u001b[0malias\u001b[0m\u001b[1;33m)\u001b[0m\u001b[1;33m)\u001b[0m\u001b[1;33m\u001b[0m\u001b[1;33m\u001b[0m\u001b[0m\n",
      "\u001b[1;31mValueError\u001b[0m: not enough values to unpack (expected 2, got 1)"
     ]
    }
   ],
   "source": [
    "alias pip=pip3"
   ]
  },
  {
   "cell_type": "code",
   "execution_count": 31,
   "id": "ea4cc724",
   "metadata": {},
   "outputs": [
    {
     "name": "stdout",
     "output_type": "stream",
     "text": [
      "Collecting git+https://github.com/sat28/githubcommit.gitNote: you may need to restart the kernel to use updated packages.\n"
     ]
    },
    {
     "name": "stderr",
     "output_type": "stream",
     "text": [
      "  Running command git clone --filter=blob:none --quiet https://github.com/sat28/githubcommit.git 'C:\\Users\\Aishwarya\\AppData\\Local\\Temp\\pip-req-build-zls57v84'\n"
     ]
    },
    {
     "name": "stdout",
     "output_type": "stream",
     "text": [
      "\n",
      "  Cloning https://github.com/sat28/githubcommit.git to c:\\users\\aishwarya\\appdata\\local\\temp\\pip-req-build-zls57v84\n",
      "  Resolved https://github.com/sat28/githubcommit.git to commit 12d1dcba808d68148a6232bbbe202d4a327d3ce1\n",
      "  Preparing metadata (setup.py): started\n",
      "  Preparing metadata (setup.py): finished with status 'done'\n",
      "Requirement already satisfied: psutil in c:\\users\\aishwarya\\anaconda3\\lib\\site-packages (from githubcommit==0.1.0) (5.9.0)\n",
      "Requirement already satisfied: notebook in c:\\users\\aishwarya\\anaconda3\\lib\\site-packages (from githubcommit==0.1.0) (6.4.12)\n",
      "Collecting gitpython\n",
      "  Downloading GitPython-3.1.42-py3-none-any.whl (195 kB)\n",
      "     ------------------------------------ 195.4/195.4 kB 382.6 kB/s eta 0:00:00\n",
      "Collecting gitdb<5,>=4.0.1\n",
      "  Downloading gitdb-4.0.11-py3-none-any.whl (62 kB)\n",
      "     -------------------------------------- 62.7/62.7 kB 477.1 kB/s eta 0:00:00\n",
      "Requirement already satisfied: terminado>=0.8.3 in c:\\users\\aishwarya\\anaconda3\\lib\\site-packages (from notebook->githubcommit==0.1.0) (0.13.1)\n",
      "Requirement already satisfied: nbformat in c:\\users\\aishwarya\\anaconda3\\lib\\site-packages (from notebook->githubcommit==0.1.0) (5.5.0)\n",
      "Requirement already satisfied: pyzmq>=17 in c:\\users\\aishwarya\\anaconda3\\lib\\site-packages (from notebook->githubcommit==0.1.0) (23.2.0)\n",
      "Requirement already satisfied: Send2Trash>=1.8.0 in c:\\users\\aishwarya\\anaconda3\\lib\\site-packages (from notebook->githubcommit==0.1.0) (1.8.0)\n",
      "Requirement already satisfied: nbconvert>=5 in c:\\users\\aishwarya\\anaconda3\\lib\\site-packages (from notebook->githubcommit==0.1.0) (6.4.4)\n",
      "Requirement already satisfied: tornado>=6.1 in c:\\users\\aishwarya\\anaconda3\\lib\\site-packages (from notebook->githubcommit==0.1.0) (6.1)\n",
      "Requirement already satisfied: prometheus-client in c:\\users\\aishwarya\\anaconda3\\lib\\site-packages (from notebook->githubcommit==0.1.0) (0.14.1)\n",
      "Requirement already satisfied: traitlets>=4.2.1 in c:\\users\\aishwarya\\anaconda3\\lib\\site-packages (from notebook->githubcommit==0.1.0) (5.1.1)\n",
      "Requirement already satisfied: jinja2 in c:\\users\\aishwarya\\anaconda3\\lib\\site-packages (from notebook->githubcommit==0.1.0) (2.11.3)\n",
      "Requirement already satisfied: jupyter-core>=4.6.1 in c:\\users\\aishwarya\\anaconda3\\lib\\site-packages (from notebook->githubcommit==0.1.0) (4.11.1)\n",
      "Requirement already satisfied: ipython-genutils in c:\\users\\aishwarya\\anaconda3\\lib\\site-packages (from notebook->githubcommit==0.1.0) (0.2.0)\n",
      "Requirement already satisfied: ipykernel in c:\\users\\aishwarya\\anaconda3\\lib\\site-packages (from notebook->githubcommit==0.1.0) (6.15.2)\n",
      "Requirement already satisfied: nest-asyncio>=1.5 in c:\\users\\aishwarya\\anaconda3\\lib\\site-packages (from notebook->githubcommit==0.1.0) (1.5.5)\n",
      "Requirement already satisfied: argon2-cffi in c:\\users\\aishwarya\\anaconda3\\lib\\site-packages (from notebook->githubcommit==0.1.0) (21.3.0)\n",
      "Requirement already satisfied: jupyter-client>=5.3.4 in c:\\users\\aishwarya\\anaconda3\\lib\\site-packages (from notebook->githubcommit==0.1.0) (7.3.4)\n",
      "Collecting smmap<6,>=3.0.1\n",
      "  Downloading smmap-5.0.1-py3-none-any.whl (24 kB)\n",
      "Requirement already satisfied: python-dateutil>=2.8.2 in c:\\users\\aishwarya\\anaconda3\\lib\\site-packages (from jupyter-client>=5.3.4->notebook->githubcommit==0.1.0) (2.8.2)\n",
      "Requirement already satisfied: entrypoints in c:\\users\\aishwarya\\anaconda3\\lib\\site-packages (from jupyter-client>=5.3.4->notebook->githubcommit==0.1.0) (0.4)\n",
      "Requirement already satisfied: pywin32>=1.0 in c:\\users\\aishwarya\\anaconda3\\lib\\site-packages (from jupyter-core>=4.6.1->notebook->githubcommit==0.1.0) (302)\n",
      "Requirement already satisfied: testpath in c:\\users\\aishwarya\\anaconda3\\lib\\site-packages (from nbconvert>=5->notebook->githubcommit==0.1.0) (0.6.0)\n",
      "Requirement already satisfied: bleach in c:\\users\\aishwarya\\anaconda3\\lib\\site-packages (from nbconvert>=5->notebook->githubcommit==0.1.0) (4.1.0)\n",
      "Requirement already satisfied: beautifulsoup4 in c:\\users\\aishwarya\\anaconda3\\lib\\site-packages (from nbconvert>=5->notebook->githubcommit==0.1.0) (4.11.1)\n",
      "Requirement already satisfied: pandocfilters>=1.4.1 in c:\\users\\aishwarya\\anaconda3\\lib\\site-packages (from nbconvert>=5->notebook->githubcommit==0.1.0) (1.5.0)\n",
      "Requirement already satisfied: mistune<2,>=0.8.1 in c:\\users\\aishwarya\\anaconda3\\lib\\site-packages (from nbconvert>=5->notebook->githubcommit==0.1.0) (0.8.4)\n",
      "Requirement already satisfied: defusedxml in c:\\users\\aishwarya\\anaconda3\\lib\\site-packages (from nbconvert>=5->notebook->githubcommit==0.1.0) (0.7.1)\n",
      "Requirement already satisfied: nbclient<0.6.0,>=0.5.0 in c:\\users\\aishwarya\\anaconda3\\lib\\site-packages (from nbconvert>=5->notebook->githubcommit==0.1.0) (0.5.13)\n",
      "Requirement already satisfied: jupyterlab-pygments in c:\\users\\aishwarya\\anaconda3\\lib\\site-packages (from nbconvert>=5->notebook->githubcommit==0.1.0) (0.1.2)\n",
      "Requirement already satisfied: pygments>=2.4.1 in c:\\users\\aishwarya\\anaconda3\\lib\\site-packages (from nbconvert>=5->notebook->githubcommit==0.1.0) (2.11.2)\n",
      "Requirement already satisfied: MarkupSafe>=0.23 in c:\\users\\aishwarya\\anaconda3\\lib\\site-packages (from jinja2->notebook->githubcommit==0.1.0) (2.0.1)\n",
      "Requirement already satisfied: jsonschema>=2.6 in c:\\users\\aishwarya\\anaconda3\\lib\\site-packages (from nbformat->notebook->githubcommit==0.1.0) (4.16.0)\n",
      "Requirement already satisfied: fastjsonschema in c:\\users\\aishwarya\\anaconda3\\lib\\site-packages (from nbformat->notebook->githubcommit==0.1.0) (2.16.2)\n",
      "Requirement already satisfied: pywinpty>=1.1.0 in c:\\users\\aishwarya\\anaconda3\\lib\\site-packages (from terminado>=0.8.3->notebook->githubcommit==0.1.0) (2.0.2)\n",
      "Requirement already satisfied: argon2-cffi-bindings in c:\\users\\aishwarya\\anaconda3\\lib\\site-packages (from argon2-cffi->notebook->githubcommit==0.1.0) (21.2.0)\n",
      "Requirement already satisfied: packaging in c:\\users\\aishwarya\\anaconda3\\lib\\site-packages (from ipykernel->notebook->githubcommit==0.1.0) (21.3)\n",
      "Requirement already satisfied: matplotlib-inline>=0.1 in c:\\users\\aishwarya\\anaconda3\\lib\\site-packages (from ipykernel->notebook->githubcommit==0.1.0) (0.1.6)\n",
      "Requirement already satisfied: ipython>=7.23.1 in c:\\users\\aishwarya\\anaconda3\\lib\\site-packages (from ipykernel->notebook->githubcommit==0.1.0) (7.31.1)\n",
      "Requirement already satisfied: debugpy>=1.0 in c:\\users\\aishwarya\\anaconda3\\lib\\site-packages (from ipykernel->notebook->githubcommit==0.1.0) (1.5.1)\n",
      "Requirement already satisfied: jedi>=0.16 in c:\\users\\aishwarya\\anaconda3\\lib\\site-packages (from ipython>=7.23.1->ipykernel->notebook->githubcommit==0.1.0) (0.18.1)\n",
      "Requirement already satisfied: decorator in c:\\users\\aishwarya\\anaconda3\\lib\\site-packages (from ipython>=7.23.1->ipykernel->notebook->githubcommit==0.1.0) (5.1.1)\n",
      "Requirement already satisfied: colorama in c:\\users\\aishwarya\\anaconda3\\lib\\site-packages (from ipython>=7.23.1->ipykernel->notebook->githubcommit==0.1.0) (0.4.5)\n",
      "Requirement already satisfied: prompt-toolkit!=3.0.0,!=3.0.1,<3.1.0,>=2.0.0 in c:\\users\\aishwarya\\anaconda3\\lib\\site-packages (from ipython>=7.23.1->ipykernel->notebook->githubcommit==0.1.0) (3.0.20)\n",
      "Requirement already satisfied: setuptools>=18.5 in c:\\users\\aishwarya\\anaconda3\\lib\\site-packages (from ipython>=7.23.1->ipykernel->notebook->githubcommit==0.1.0) (63.4.1)\n",
      "Requirement already satisfied: backcall in c:\\users\\aishwarya\\anaconda3\\lib\\site-packages (from ipython>=7.23.1->ipykernel->notebook->githubcommit==0.1.0) (0.2.0)\n",
      "Requirement already satisfied: pickleshare in c:\\users\\aishwarya\\anaconda3\\lib\\site-packages (from ipython>=7.23.1->ipykernel->notebook->githubcommit==0.1.0) (0.7.5)\n",
      "Requirement already satisfied: attrs>=17.4.0 in c:\\users\\aishwarya\\anaconda3\\lib\\site-packages (from jsonschema>=2.6->nbformat->notebook->githubcommit==0.1.0) (21.4.0)\n",
      "Requirement already satisfied: pyrsistent!=0.17.0,!=0.17.1,!=0.17.2,>=0.14.0 in c:\\users\\aishwarya\\anaconda3\\lib\\site-packages (from jsonschema>=2.6->nbformat->notebook->githubcommit==0.1.0) (0.18.0)\n",
      "Requirement already satisfied: six>=1.5 in c:\\users\\aishwarya\\anaconda3\\lib\\site-packages (from python-dateutil>=2.8.2->jupyter-client>=5.3.4->notebook->githubcommit==0.1.0) (1.16.0)\n",
      "Requirement already satisfied: cffi>=1.0.1 in c:\\users\\aishwarya\\anaconda3\\lib\\site-packages (from argon2-cffi-bindings->argon2-cffi->notebook->githubcommit==0.1.0) (1.15.1)\n",
      "Requirement already satisfied: soupsieve>1.2 in c:\\users\\aishwarya\\anaconda3\\lib\\site-packages (from beautifulsoup4->nbconvert>=5->notebook->githubcommit==0.1.0) (2.3.1)\n",
      "Requirement already satisfied: webencodings in c:\\users\\aishwarya\\anaconda3\\lib\\site-packages (from bleach->nbconvert>=5->notebook->githubcommit==0.1.0) (0.5.1)\n",
      "Requirement already satisfied: pyparsing!=3.0.5,>=2.0.2 in c:\\users\\aishwarya\\anaconda3\\lib\\site-packages (from packaging->ipykernel->notebook->githubcommit==0.1.0) (3.0.9)\n",
      "Requirement already satisfied: pycparser in c:\\users\\aishwarya\\anaconda3\\lib\\site-packages (from cffi>=1.0.1->argon2-cffi-bindings->argon2-cffi->notebook->githubcommit==0.1.0) (2.21)\n",
      "Requirement already satisfied: parso<0.9.0,>=0.8.0 in c:\\users\\aishwarya\\anaconda3\\lib\\site-packages (from jedi>=0.16->ipython>=7.23.1->ipykernel->notebook->githubcommit==0.1.0) (0.8.3)\n",
      "Requirement already satisfied: wcwidth in c:\\users\\aishwarya\\anaconda3\\lib\\site-packages (from prompt-toolkit!=3.0.0,!=3.0.1,<3.1.0,>=2.0.0->ipython>=7.23.1->ipykernel->notebook->githubcommit==0.1.0) (0.2.5)\n",
      "Building wheels for collected packages: githubcommit\n",
      "  Building wheel for githubcommit (setup.py): started\n",
      "  Building wheel for githubcommit (setup.py): finished with status 'done'\n",
      "  Created wheel for githubcommit: filename=githubcommit-0.1.0-py3-none-any.whl size=5836 sha256=78a306e2c688b36f1b357257baf3fbeb374ee321de3fa7aabd6789ee754b4ece\n",
      "  Stored in directory: C:\\Users\\Aishwarya\\AppData\\Local\\Temp\\pip-ephem-wheel-cache-pq8i9xpk\\wheels\\7a\\e0\\c1\\958f5d242d1b80d9ac821af00f616ee83453fcc2adeb8daa74\n",
      "Successfully built githubcommit\n",
      "Installing collected packages: smmap, gitdb, gitpython, githubcommit\n",
      "Successfully installed gitdb-4.0.11 githubcommit-0.1.0 gitpython-3.1.42 smmap-5.0.1\n"
     ]
    }
   ],
   "source": [
    "pip install git+https://github.com/sat28/githubcommit.git"
   ]
  },
  {
   "cell_type": "code",
   "execution_count": null,
   "id": "bd6a8974",
   "metadata": {},
   "outputs": [],
   "source": []
  }
 ],
 "metadata": {
  "kernelspec": {
   "display_name": "Python 3 (ipykernel)",
   "language": "python",
   "name": "python3"
  },
  "language_info": {
   "codemirror_mode": {
    "name": "ipython",
    "version": 3
   },
   "file_extension": ".py",
   "mimetype": "text/x-python",
   "name": "python",
   "nbconvert_exporter": "python",
   "pygments_lexer": "ipython3",
   "version": "3.9.13"
  }
 },
 "nbformat": 4,
 "nbformat_minor": 5
}
